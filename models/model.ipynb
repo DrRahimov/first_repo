{
 "cells": [
  {
   "cell_type": "code",
   "execution_count": 3,
   "id": "f4dc1cb3-9d7d-4d31-9abe-e4c25eb44546",
   "metadata": {},
   "outputs": [
    {
     "name": "stdout",
     "output_type": "stream",
     "text": [
      "[12.]\n"
     ]
    }
   ],
   "source": [
    "# Importing necessary libraries\n",
    "from sklearn.linear_model import LinearRegression\n",
    "import numpy as np\n",
    "\n",
    "# Creating sample data\n",
    "X = np.array([1, 2, 3, 4, 5]).reshape(-1, 1)  # Features\n",
    "y = np.array([2, 4, 6, 8, 10])               # Target variable\n",
    "\n",
    "# Creating an instance of the linear regression model\n",
    "model = LinearRegression()\n",
    "\n",
    "# Fitting the model with the data\n",
    "model.fit(X, y)\n",
    "\n",
    "# Making predictions\n",
    "predictions = model.predict(np.array([6]).reshape(-1, 1))\n",
    "\n",
    "print(predictions)\n"
   ]
  },
  {
   "cell_type": "code",
   "execution_count": null,
   "id": "477e2f69-23d9-4162-bba4-0f5fd1c887e4",
   "metadata": {},
   "outputs": [],
   "source": []
  },
  {
   "cell_type": "code",
   "execution_count": null,
   "id": "c52390b1-beb4-4b8b-960b-031f5bd47ef2",
   "metadata": {},
   "outputs": [],
   "source": []
  },
  {
   "cell_type": "code",
   "execution_count": null,
   "id": "cdac0fe0-d91f-44b2-a9ca-882216f42abf",
   "metadata": {},
   "outputs": [],
   "source": []
  },
  {
   "cell_type": "code",
   "execution_count": null,
   "id": "c825a73b-ad0d-4faa-9db7-d13a5b807d93",
   "metadata": {},
   "outputs": [],
   "source": []
  }
 ],
 "metadata": {
  "kernelspec": {
   "display_name": "Python 3 (ipykernel)",
   "language": "python",
   "name": "python3"
  },
  "language_info": {
   "codemirror_mode": {
    "name": "ipython",
    "version": 3
   },
   "file_extension": ".py",
   "mimetype": "text/x-python",
   "name": "python",
   "nbconvert_exporter": "python",
   "pygments_lexer": "ipython3",
   "version": "3.12.4"
  }
 },
 "nbformat": 4,
 "nbformat_minor": 5
}
